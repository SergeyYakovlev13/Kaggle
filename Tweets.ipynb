{
 "cells": [
  {
   "cell_type": "code",
   "execution_count": 1,
   "id": "3f6de25b",
   "metadata": {},
   "outputs": [],
   "source": [
    "import pandas as pd\n",
    "import numpy as np\n",
    "import matplotlib.pyplot as plt\n",
    "from sklearn.naive_bayes import MultinomialNB\n",
    "from sklearn.svm import SVC\n",
    "from sklearn.feature_extraction.text import TfidfVectorizer\n",
    "from sklearn.model_selection import train_test_split,GridSearchCV\n",
    "from sklearn.metrics import accuracy_score,precision_score,recall_score,f1_score"
   ]
  },
  {
   "cell_type": "code",
   "execution_count": 2,
   "id": "20db3595",
   "metadata": {},
   "outputs": [
    {
     "data": {
      "text/html": [
       "<div>\n",
       "<style scoped>\n",
       "    .dataframe tbody tr th:only-of-type {\n",
       "        vertical-align: middle;\n",
       "    }\n",
       "\n",
       "    .dataframe tbody tr th {\n",
       "        vertical-align: top;\n",
       "    }\n",
       "\n",
       "    .dataframe thead th {\n",
       "        text-align: right;\n",
       "    }\n",
       "</style>\n",
       "<table border=\"1\" class=\"dataframe\">\n",
       "  <thead>\n",
       "    <tr style=\"text-align: right;\">\n",
       "      <th></th>\n",
       "      <th>id</th>\n",
       "      <th>keyword</th>\n",
       "      <th>location</th>\n",
       "      <th>text</th>\n",
       "      <th>target</th>\n",
       "    </tr>\n",
       "  </thead>\n",
       "  <tbody>\n",
       "    <tr>\n",
       "      <th>0</th>\n",
       "      <td>1</td>\n",
       "      <td>NaN</td>\n",
       "      <td>NaN</td>\n",
       "      <td>Our Deeds are the Reason of this #earthquake M...</td>\n",
       "      <td>1</td>\n",
       "    </tr>\n",
       "    <tr>\n",
       "      <th>1</th>\n",
       "      <td>4</td>\n",
       "      <td>NaN</td>\n",
       "      <td>NaN</td>\n",
       "      <td>Forest fire near La Ronge Sask. Canada</td>\n",
       "      <td>1</td>\n",
       "    </tr>\n",
       "    <tr>\n",
       "      <th>2</th>\n",
       "      <td>5</td>\n",
       "      <td>NaN</td>\n",
       "      <td>NaN</td>\n",
       "      <td>All residents asked to 'shelter in place' are ...</td>\n",
       "      <td>1</td>\n",
       "    </tr>\n",
       "    <tr>\n",
       "      <th>3</th>\n",
       "      <td>6</td>\n",
       "      <td>NaN</td>\n",
       "      <td>NaN</td>\n",
       "      <td>13,000 people receive #wildfires evacuation or...</td>\n",
       "      <td>1</td>\n",
       "    </tr>\n",
       "    <tr>\n",
       "      <th>4</th>\n",
       "      <td>7</td>\n",
       "      <td>NaN</td>\n",
       "      <td>NaN</td>\n",
       "      <td>Just got sent this photo from Ruby #Alaska as ...</td>\n",
       "      <td>1</td>\n",
       "    </tr>\n",
       "    <tr>\n",
       "      <th>...</th>\n",
       "      <td>...</td>\n",
       "      <td>...</td>\n",
       "      <td>...</td>\n",
       "      <td>...</td>\n",
       "      <td>...</td>\n",
       "    </tr>\n",
       "    <tr>\n",
       "      <th>7608</th>\n",
       "      <td>10869</td>\n",
       "      <td>NaN</td>\n",
       "      <td>NaN</td>\n",
       "      <td>Two giant cranes holding a bridge collapse int...</td>\n",
       "      <td>1</td>\n",
       "    </tr>\n",
       "    <tr>\n",
       "      <th>7609</th>\n",
       "      <td>10870</td>\n",
       "      <td>NaN</td>\n",
       "      <td>NaN</td>\n",
       "      <td>@aria_ahrary @TheTawniest The out of control w...</td>\n",
       "      <td>1</td>\n",
       "    </tr>\n",
       "    <tr>\n",
       "      <th>7610</th>\n",
       "      <td>10871</td>\n",
       "      <td>NaN</td>\n",
       "      <td>NaN</td>\n",
       "      <td>M1.94 [01:04 UTC]?5km S of Volcano Hawaii. htt...</td>\n",
       "      <td>1</td>\n",
       "    </tr>\n",
       "    <tr>\n",
       "      <th>7611</th>\n",
       "      <td>10872</td>\n",
       "      <td>NaN</td>\n",
       "      <td>NaN</td>\n",
       "      <td>Police investigating after an e-bike collided ...</td>\n",
       "      <td>1</td>\n",
       "    </tr>\n",
       "    <tr>\n",
       "      <th>7612</th>\n",
       "      <td>10873</td>\n",
       "      <td>NaN</td>\n",
       "      <td>NaN</td>\n",
       "      <td>The Latest: More Homes Razed by Northern Calif...</td>\n",
       "      <td>1</td>\n",
       "    </tr>\n",
       "  </tbody>\n",
       "</table>\n",
       "<p>7613 rows × 5 columns</p>\n",
       "</div>"
      ],
      "text/plain": [
       "         id keyword location  \\\n",
       "0         1     NaN      NaN   \n",
       "1         4     NaN      NaN   \n",
       "2         5     NaN      NaN   \n",
       "3         6     NaN      NaN   \n",
       "4         7     NaN      NaN   \n",
       "...     ...     ...      ...   \n",
       "7608  10869     NaN      NaN   \n",
       "7609  10870     NaN      NaN   \n",
       "7610  10871     NaN      NaN   \n",
       "7611  10872     NaN      NaN   \n",
       "7612  10873     NaN      NaN   \n",
       "\n",
       "                                                   text  target  \n",
       "0     Our Deeds are the Reason of this #earthquake M...       1  \n",
       "1                Forest fire near La Ronge Sask. Canada       1  \n",
       "2     All residents asked to 'shelter in place' are ...       1  \n",
       "3     13,000 people receive #wildfires evacuation or...       1  \n",
       "4     Just got sent this photo from Ruby #Alaska as ...       1  \n",
       "...                                                 ...     ...  \n",
       "7608  Two giant cranes holding a bridge collapse int...       1  \n",
       "7609  @aria_ahrary @TheTawniest The out of control w...       1  \n",
       "7610  M1.94 [01:04 UTC]?5km S of Volcano Hawaii. htt...       1  \n",
       "7611  Police investigating after an e-bike collided ...       1  \n",
       "7612  The Latest: More Homes Razed by Northern Calif...       1  \n",
       "\n",
       "[7613 rows x 5 columns]"
      ]
     },
     "metadata": {},
     "output_type": "display_data"
    },
    {
     "data": {
      "text/html": [
       "<div>\n",
       "<style scoped>\n",
       "    .dataframe tbody tr th:only-of-type {\n",
       "        vertical-align: middle;\n",
       "    }\n",
       "\n",
       "    .dataframe tbody tr th {\n",
       "        vertical-align: top;\n",
       "    }\n",
       "\n",
       "    .dataframe thead th {\n",
       "        text-align: right;\n",
       "    }\n",
       "</style>\n",
       "<table border=\"1\" class=\"dataframe\">\n",
       "  <thead>\n",
       "    <tr style=\"text-align: right;\">\n",
       "      <th></th>\n",
       "      <th>id</th>\n",
       "      <th>keyword</th>\n",
       "      <th>location</th>\n",
       "      <th>text</th>\n",
       "    </tr>\n",
       "  </thead>\n",
       "  <tbody>\n",
       "    <tr>\n",
       "      <th>0</th>\n",
       "      <td>0</td>\n",
       "      <td>NaN</td>\n",
       "      <td>NaN</td>\n",
       "      <td>Just happened a terrible car crash</td>\n",
       "    </tr>\n",
       "    <tr>\n",
       "      <th>1</th>\n",
       "      <td>2</td>\n",
       "      <td>NaN</td>\n",
       "      <td>NaN</td>\n",
       "      <td>Heard about #earthquake is different cities, s...</td>\n",
       "    </tr>\n",
       "    <tr>\n",
       "      <th>2</th>\n",
       "      <td>3</td>\n",
       "      <td>NaN</td>\n",
       "      <td>NaN</td>\n",
       "      <td>there is a forest fire at spot pond, geese are...</td>\n",
       "    </tr>\n",
       "    <tr>\n",
       "      <th>3</th>\n",
       "      <td>9</td>\n",
       "      <td>NaN</td>\n",
       "      <td>NaN</td>\n",
       "      <td>Apocalypse lighting. #Spokane #wildfires</td>\n",
       "    </tr>\n",
       "    <tr>\n",
       "      <th>4</th>\n",
       "      <td>11</td>\n",
       "      <td>NaN</td>\n",
       "      <td>NaN</td>\n",
       "      <td>Typhoon Soudelor kills 28 in China and Taiwan</td>\n",
       "    </tr>\n",
       "    <tr>\n",
       "      <th>...</th>\n",
       "      <td>...</td>\n",
       "      <td>...</td>\n",
       "      <td>...</td>\n",
       "      <td>...</td>\n",
       "    </tr>\n",
       "    <tr>\n",
       "      <th>3258</th>\n",
       "      <td>10861</td>\n",
       "      <td>NaN</td>\n",
       "      <td>NaN</td>\n",
       "      <td>EARTHQUAKE SAFETY LOS ANGELES ÛÒ SAFETY FASTE...</td>\n",
       "    </tr>\n",
       "    <tr>\n",
       "      <th>3259</th>\n",
       "      <td>10865</td>\n",
       "      <td>NaN</td>\n",
       "      <td>NaN</td>\n",
       "      <td>Storm in RI worse than last hurricane. My city...</td>\n",
       "    </tr>\n",
       "    <tr>\n",
       "      <th>3260</th>\n",
       "      <td>10868</td>\n",
       "      <td>NaN</td>\n",
       "      <td>NaN</td>\n",
       "      <td>Green Line derailment in Chicago http://t.co/U...</td>\n",
       "    </tr>\n",
       "    <tr>\n",
       "      <th>3261</th>\n",
       "      <td>10874</td>\n",
       "      <td>NaN</td>\n",
       "      <td>NaN</td>\n",
       "      <td>MEG issues Hazardous Weather Outlook (HWO) htt...</td>\n",
       "    </tr>\n",
       "    <tr>\n",
       "      <th>3262</th>\n",
       "      <td>10875</td>\n",
       "      <td>NaN</td>\n",
       "      <td>NaN</td>\n",
       "      <td>#CityofCalgary has activated its Municipal Eme...</td>\n",
       "    </tr>\n",
       "  </tbody>\n",
       "</table>\n",
       "<p>3263 rows × 4 columns</p>\n",
       "</div>"
      ],
      "text/plain": [
       "         id keyword location  \\\n",
       "0         0     NaN      NaN   \n",
       "1         2     NaN      NaN   \n",
       "2         3     NaN      NaN   \n",
       "3         9     NaN      NaN   \n",
       "4        11     NaN      NaN   \n",
       "...     ...     ...      ...   \n",
       "3258  10861     NaN      NaN   \n",
       "3259  10865     NaN      NaN   \n",
       "3260  10868     NaN      NaN   \n",
       "3261  10874     NaN      NaN   \n",
       "3262  10875     NaN      NaN   \n",
       "\n",
       "                                                   text  \n",
       "0                    Just happened a terrible car crash  \n",
       "1     Heard about #earthquake is different cities, s...  \n",
       "2     there is a forest fire at spot pond, geese are...  \n",
       "3              Apocalypse lighting. #Spokane #wildfires  \n",
       "4         Typhoon Soudelor kills 28 in China and Taiwan  \n",
       "...                                                 ...  \n",
       "3258  EARTHQUAKE SAFETY LOS ANGELES ÛÒ SAFETY FASTE...  \n",
       "3259  Storm in RI worse than last hurricane. My city...  \n",
       "3260  Green Line derailment in Chicago http://t.co/U...  \n",
       "3261  MEG issues Hazardous Weather Outlook (HWO) htt...  \n",
       "3262  #CityofCalgary has activated its Municipal Eme...  \n",
       "\n",
       "[3263 rows x 4 columns]"
      ]
     },
     "metadata": {},
     "output_type": "display_data"
    },
    {
     "data": {
      "text/html": [
       "<div>\n",
       "<style scoped>\n",
       "    .dataframe tbody tr th:only-of-type {\n",
       "        vertical-align: middle;\n",
       "    }\n",
       "\n",
       "    .dataframe tbody tr th {\n",
       "        vertical-align: top;\n",
       "    }\n",
       "\n",
       "    .dataframe thead th {\n",
       "        text-align: right;\n",
       "    }\n",
       "</style>\n",
       "<table border=\"1\" class=\"dataframe\">\n",
       "  <thead>\n",
       "    <tr style=\"text-align: right;\">\n",
       "      <th></th>\n",
       "      <th>id</th>\n",
       "      <th>target</th>\n",
       "    </tr>\n",
       "  </thead>\n",
       "  <tbody>\n",
       "    <tr>\n",
       "      <th>0</th>\n",
       "      <td>0</td>\n",
       "      <td>0</td>\n",
       "    </tr>\n",
       "    <tr>\n",
       "      <th>1</th>\n",
       "      <td>2</td>\n",
       "      <td>0</td>\n",
       "    </tr>\n",
       "    <tr>\n",
       "      <th>2</th>\n",
       "      <td>3</td>\n",
       "      <td>0</td>\n",
       "    </tr>\n",
       "    <tr>\n",
       "      <th>3</th>\n",
       "      <td>9</td>\n",
       "      <td>0</td>\n",
       "    </tr>\n",
       "    <tr>\n",
       "      <th>4</th>\n",
       "      <td>11</td>\n",
       "      <td>0</td>\n",
       "    </tr>\n",
       "    <tr>\n",
       "      <th>...</th>\n",
       "      <td>...</td>\n",
       "      <td>...</td>\n",
       "    </tr>\n",
       "    <tr>\n",
       "      <th>3258</th>\n",
       "      <td>10861</td>\n",
       "      <td>0</td>\n",
       "    </tr>\n",
       "    <tr>\n",
       "      <th>3259</th>\n",
       "      <td>10865</td>\n",
       "      <td>0</td>\n",
       "    </tr>\n",
       "    <tr>\n",
       "      <th>3260</th>\n",
       "      <td>10868</td>\n",
       "      <td>0</td>\n",
       "    </tr>\n",
       "    <tr>\n",
       "      <th>3261</th>\n",
       "      <td>10874</td>\n",
       "      <td>0</td>\n",
       "    </tr>\n",
       "    <tr>\n",
       "      <th>3262</th>\n",
       "      <td>10875</td>\n",
       "      <td>0</td>\n",
       "    </tr>\n",
       "  </tbody>\n",
       "</table>\n",
       "<p>3263 rows × 2 columns</p>\n",
       "</div>"
      ],
      "text/plain": [
       "         id  target\n",
       "0         0       0\n",
       "1         2       0\n",
       "2         3       0\n",
       "3         9       0\n",
       "4        11       0\n",
       "...     ...     ...\n",
       "3258  10861       0\n",
       "3259  10865       0\n",
       "3260  10868       0\n",
       "3261  10874       0\n",
       "3262  10875       0\n",
       "\n",
       "[3263 rows x 2 columns]"
      ]
     },
     "metadata": {},
     "output_type": "display_data"
    }
   ],
   "source": [
    "train=pd.read_csv('C:/Users/Сергей/Desktop/Tweets/train.csv')\n",
    "test=pd.read_csv('C:/Users/Сергей/Desktop/Tweets/test.csv')\n",
    "ss=pd.read_csv('C:/Users/Сергей/Desktop/Tweets/sample_submission.csv')\n",
    "display(train)\n",
    "display(test)\n",
    "display(ss)"
   ]
  },
  {
   "cell_type": "code",
   "execution_count": 3,
   "id": "f1d8f128",
   "metadata": {},
   "outputs": [
    {
     "name": "stdout",
     "output_type": "stream",
     "text": [
      "0       1\n",
      "1       1\n",
      "2       1\n",
      "3       1\n",
      "4       1\n",
      "       ..\n",
      "7608    1\n",
      "7609    1\n",
      "7610    1\n",
      "7611    1\n",
      "7612    1\n",
      "Name: target, Length: 7613, dtype: int64\n",
      "0       Our Deeds are the Reason of this #earthquake M...\n",
      "1                  Forest fire near La Ronge Sask. Canada\n",
      "2       All residents asked to 'shelter in place' are ...\n",
      "3       13,000 people receive #wildfires evacuation or...\n",
      "4       Just got sent this photo from Ruby #Alaska as ...\n",
      "                              ...                        \n",
      "7608    Two giant cranes holding a bridge collapse int...\n",
      "7609    @aria_ahrary @TheTawniest The out of control w...\n",
      "7610    M1.94 [01:04 UTC]?5km S of Volcano Hawaii. htt...\n",
      "7611    Police investigating after an e-bike collided ...\n",
      "7612    The Latest: More Homes Razed by Northern Calif...\n",
      "Name: text, Length: 7613, dtype: object\n",
      "0                      Just happened a terrible car crash\n",
      "1       Heard about #earthquake is different cities, s...\n",
      "2       there is a forest fire at spot pond, geese are...\n",
      "3                Apocalypse lighting. #Spokane #wildfires\n",
      "4           Typhoon Soudelor kills 28 in China and Taiwan\n",
      "                              ...                        \n",
      "3258    EARTHQUAKE SAFETY LOS ANGELES ÛÒ SAFETY FASTE...\n",
      "3259    Storm in RI worse than last hurricane. My city...\n",
      "3260    Green Line derailment in Chicago http://t.co/U...\n",
      "3261    MEG issues Hazardous Weather Outlook (HWO) htt...\n",
      "3262    #CityofCalgary has activated its Municipal Eme...\n",
      "Name: text, Length: 3263, dtype: object\n"
     ]
    }
   ],
   "source": [
    "y=train['target']\n",
    "train=pd.Series(train['text'])\n",
    "test=pd.Series(test['text'])\n",
    "print(y)\n",
    "print(train)\n",
    "print(test)"
   ]
  },
  {
   "cell_type": "code",
   "execution_count": 4,
   "id": "e98efe2c",
   "metadata": {},
   "outputs": [
    {
     "name": "stdout",
     "output_type": "stream",
     "text": [
      "0.4296597924602653\n",
      "0       our deeds are the reason of this #earthquake m...\n",
      "1                  forest fire near la ronge sask. canada\n",
      "2       all residents asked to 'shelter in place' are ...\n",
      "3       13,000 people receive #wildfires evacuation or...\n",
      "4       just got sent this photo from ruby #alaska as ...\n",
      "                              ...                        \n",
      "7608    two giant cranes holding a bridge collapse int...\n",
      "7609    @aria_ahrary @thetawniest the out of control w...\n",
      "7610    m1.94 [01:04 utc]?5km s of volcano hawaii. htt...\n",
      "7611    police investigating after an e-bike collided ...\n",
      "7612    the latest: more homes razed by northern calif...\n",
      "Name: text, Length: 7613, dtype: object\n",
      "0                      just happened a terrible car crash\n",
      "1       heard about #earthquake is different cities, s...\n",
      "2       there is a forest fire at spot pond, geese are...\n",
      "3                apocalypse lighting. #spokane #wildfires\n",
      "4           typhoon soudelor kills 28 in china and taiwan\n",
      "                              ...                        \n",
      "3258    earthquake safety los angeles ûò safety faste...\n",
      "3259    storm in ri worse than last hurricane. my city...\n",
      "3260    green line derailment in chicago http://t.co/u...\n",
      "3261    meg issues hazardous weather outlook (hwo) htt...\n",
      "3262    #cityofcalgary has activated its municipal eme...\n",
      "Name: text, Length: 3263, dtype: object\n"
     ]
    }
   ],
   "source": [
    "print(y.mean())\n",
    "train=train.str.lower()\n",
    "print(train)\n",
    "test=test.str.lower()\n",
    "print(test)"
   ]
  },
  {
   "cell_type": "code",
   "execution_count": 5,
   "id": "f709a0aa",
   "metadata": {},
   "outputs": [
    {
     "name": "stdout",
     "output_type": "stream",
     "text": [
      "  (0, 2582)\t0.3037611197993475\n",
      "  (0, 2432)\t0.2233954196743151\n",
      "  (0, 2417)\t0.12619636000075332\n",
      "  (0, 1967)\t0.40523875477326776\n",
      "  (0, 1744)\t0.3140822230077726\n",
      "  (0, 1700)\t0.14879439825274218\n",
      "  (0, 1513)\t0.3216783232017078\n",
      "  (0, 780)\t0.36043405994526756\n",
      "  (0, 208)\t0.23500933153726383\n",
      "  (0, 151)\t0.4488557726990636\n",
      "  (0, 150)\t0.25846032070106784\n",
      "  (1, 1647)\t0.4322914462990095\n",
      "  (1, 1358)\t0.4958432886180763\n",
      "  (1, 984)\t0.42124436585369884\n",
      "  (1, 947)\t0.32674179337541426\n",
      "  (1, 441)\t0.5320305661213975\n",
      "  (2, 2462)\t0.07864879469811047\n",
      "  (2, 2168)\t0.5132717649034155\n",
      "  (2, 2009)\t0.24757257735680935\n",
      "  (2, 1823)\t0.42087907520140855\n",
      "  (2, 1742)\t0.19686789942060762\n",
      "  (2, 1739)\t0.23479856627992446\n",
      "  (2, 1736)\t0.1461632214844059\n",
      "  (2, 1706)\t0.24757257735680935\n",
      "  (2, 1668)\t0.13900740890739527\n",
      "  :\t:\n",
      "  (7611, 2028)\t0.350044275735632\n",
      "  (7611, 1848)\t0.2178739493746173\n",
      "  (7611, 1670)\t0.3136347089058529\n",
      "  (7611, 1428)\t0.25980174277224294\n",
      "  (7611, 1409)\t0.2332007675043248\n",
      "  (7611, 1280)\t0.3078966793522149\n",
      "  (7611, 1260)\t0.264426782022377\n",
      "  (7611, 1246)\t0.1051842099239857\n",
      "  (7611, 540)\t0.26541467357659865\n",
      "  (7611, 449)\t0.23367559432485963\n",
      "  (7611, 174)\t0.18994605034385426\n",
      "  (7611, 121)\t0.18858715797983333\n",
      "  (7612, 2697)\t0.3201701855586726\n",
      "  (7612, 2417)\t0.12140591680777017\n",
      "  (7612, 1952)\t0.36429314556195475\n",
      "  (7612, 1674)\t0.3259547091343627\n",
      "  (7612, 1658)\t0.2655886836780667\n",
      "  (7612, 1593)\t0.2582990718942193\n",
      "  (7612, 1376)\t0.3304816365839914\n",
      "  (7612, 1209)\t0.09885743929128046\n",
      "  (7612, 1188)\t0.3304816365839914\n",
      "  (7612, 530)\t0.09324492463172784\n",
      "  (7612, 427)\t0.2917530049663031\n",
      "  (7612, 421)\t0.20834898003631017\n",
      "  (7612, 82)\t0.3756423578265971\n",
      "  (0, 2403)\t0.5785569375412292\n",
      "  (0, 1328)\t0.3083617017638652\n",
      "  (0, 1113)\t0.5110962656217939\n",
      "  (0, 602)\t0.38558648171231935\n",
      "  (0, 449)\t0.4003605915876077\n",
      "  (1, 2292)\t0.341128138202622\n",
      "  (1, 2079)\t0.4101076987455481\n",
      "  (1, 1290)\t0.16563679492104968\n",
      "  (1, 1137)\t0.3316131729687121\n",
      "  (1, 851)\t0.3067235436514152\n",
      "  (1, 780)\t0.31996779668813674\n",
      "  (1, 709)\t0.37730198095048745\n",
      "  (1, 505)\t0.42512119997892833\n",
      "  (1, 86)\t0.2418612862566478\n",
      "  (2, 2424)\t0.23669042271514934\n",
      "  (2, 2421)\t0.26357789043217844\n",
      "  (2, 2417)\t0.10708337393622687\n",
      "  (2, 2316)\t0.33720246656725356\n",
      "  (2, 2270)\t0.3393255235020928\n",
      "  (2, 2096)\t0.3129832449109892\n",
      "  (2, 1290)\t0.1583257628722368\n",
      "  (2, 984)\t0.28827447753500257\n",
      "  (2, 947)\t0.22360256280996915\n",
      "  (2, 443)\t0.3717796343505713\n",
      "  (2, 234)\t0.18367371932214618\n",
      "  :\t:\n",
      "  (3259, 1176)\t0.2478824945359395\n",
      "  (3259, 506)\t0.24204284899373532\n",
      "  (3259, 362)\t0.2595721105002753\n",
      "  (3259, 216)\t0.2585464019765169\n",
      "  (3259, 173)\t0.17559887521660494\n",
      "  (3260, 1419)\t0.47766449399760547\n",
      "  (3260, 1246)\t0.17700511557477505\n",
      "  (3260, 1209)\t0.12639860037962086\n",
      "  (3260, 1083)\t0.5057048725635785\n",
      "  (3260, 685)\t0.45008677034063993\n",
      "  (3260, 530)\t0.11922246874336344\n",
      "  (3260, 490)\t0.5019957151539935\n",
      "  (3261, 2667)\t0.3847120812411144\n",
      "  (3261, 1747)\t0.48907389356244124\n",
      "  (3261, 1300)\t0.4231211101901083\n",
      "  (3261, 1224)\t0.49582281374520354\n",
      "  (3261, 1209)\t0.11196544183451308\n",
      "  (3261, 1129)\t0.40526798470581016\n",
      "  (3261, 530)\t0.10560873577208003\n",
      "  (3262, 1827)\t0.3923988951325288\n",
      "  (3262, 1621)\t0.4972065464992898\n",
      "  (3262, 1304)\t0.3634406630923601\n",
      "  (3262, 1119)\t0.28890685730316545\n",
      "  (3262, 808)\t0.31914274271923526\n",
      "  (3262, 102)\t0.5304718458135722\n"
     ]
    }
   ],
   "source": [
    "vect=TfidfVectorizer(min_df=5).fit(train)\n",
    "train_vect=vect.transform(train)\n",
    "test_vect=vect.transform(test)\n",
    "print(train_vect)\n",
    "print(test_vect)"
   ]
  },
  {
   "cell_type": "code",
   "execution_count": 6,
   "id": "8857ff2d",
   "metadata": {},
   "outputs": [
    {
     "name": "stdout",
     "output_type": "stream",
     "text": [
      "  (0, 1996)\t0.25608580174129275\n",
      "  (0, 1767)\t0.20512202463248935\n",
      "  (0, 1450)\t0.24944685239616482\n",
      "  (0, 943)\t0.2197395314619918\n",
      "  (0, 754)\t0.23504487597681903\n",
      "  (0, 412)\t0.8524023284674555\n",
      "\n",
      "\n",
      "  (0, 2769)\t0.18637058911499116\n",
      "  (0, 2730)\t0.2884269105497249\n",
      "  (0, 2432)\t0.20743225220280523\n",
      "  (0, 2174)\t0.32372447192663684\n",
      "  (0, 2146)\t0.3911257053287908\n",
      "  (0, 1736)\t0.25325327020734284\n",
      "  (0, 1353)\t0.2849039338877522\n",
      "  (0, 1208)\t0.2560532271300905\n",
      "  (0, 1060)\t0.3532887469141472\n",
      "  (0, 213)\t0.3439079238981363\n",
      "  (0, 160)\t0.3568117235761199\n"
     ]
    }
   ],
   "source": [
    "X_train,X_val,y_train,y_val=train_test_split(train_vect,y,test_size=0.15,random_state=0)\n",
    "X_test=test_vect\n",
    "print(X_train[0,:])\n",
    "print('\\n')\n",
    "print(X_val[0,:])"
   ]
  },
  {
   "cell_type": "code",
   "execution_count": 7,
   "id": "db8e31b4",
   "metadata": {},
   "outputs": [
    {
     "name": "stdout",
     "output_type": "stream",
     "text": [
      "Best params: {'alpha': 0.1}\n",
      "Best score: 0.7543568762881221\n"
     ]
    },
    {
     "data": {
      "image/png": "[encoded data removed]",
      "text/plain": [
       "<Figure size 1152x864 with 1 Axes>"
      ]
     },
     "metadata": {
      "needs_background": "light"
     },
     "output_type": "display_data"
    }
   ],
   "source": [
    "a=[0.0001,0.001,0.01,0.1,1,10]\n",
    "grid=GridSearchCV(MultinomialNB(),{'alpha':a},scoring='f1').fit(X_train,y_train)\n",
    "print('Best params:',grid.best_params_)\n",
    "print('Best score:',grid.best_score_)\n",
    "scores=[]\n",
    "for i in range(len(a)):\n",
    "    clf_=MultinomialNB(alpha=a[i]).fit(X_train,y_train)\n",
    "    scores.append(f1_score(y_val,clf_.predict(X_val)))\n",
    "fig=plt.figure(figsize=(16,12))\n",
    "ax=fig.add_subplot(1,1,1)\n",
    "ax.set_title('Validation')\n",
    "ax.set_xlabel('alpha')\n",
    "ax.set_ylabel('val score')\n",
    "ax.plot(a,scores,color='b')\n",
    "ax.scatter(a,scores,color='r')\n",
    "plt.show()"
   ]
  },
  {
   "cell_type": "code",
   "execution_count": 8,
   "id": "53357abc",
   "metadata": {},
   "outputs": [
    {
     "data": {
      "text/html": [
       "<div>\n",
       "<style scoped>\n",
       "    .dataframe tbody tr th:only-of-type {\n",
       "        vertical-align: middle;\n",
       "    }\n",
       "\n",
       "    .dataframe tbody tr th {\n",
       "        vertical-align: top;\n",
       "    }\n",
       "\n",
       "    .dataframe thead th {\n",
       "        text-align: right;\n",
       "    }\n",
       "</style>\n",
       "<table border=\"1\" class=\"dataframe\">\n",
       "  <thead>\n",
       "    <tr style=\"text-align: right;\">\n",
       "      <th></th>\n",
       "      <th>Train</th>\n",
       "      <th>Validation</th>\n",
       "    </tr>\n",
       "  </thead>\n",
       "  <tbody>\n",
       "    <tr>\n",
       "      <th>Accuracy</th>\n",
       "      <td>0.851955</td>\n",
       "      <td>0.798599</td>\n",
       "    </tr>\n",
       "    <tr>\n",
       "      <th>Precision</th>\n",
       "      <td>0.888141</td>\n",
       "      <td>0.804627</td>\n",
       "    </tr>\n",
       "    <tr>\n",
       "      <th>Recall</th>\n",
       "      <td>0.753210</td>\n",
       "      <td>0.670236</td>\n",
       "    </tr>\n",
       "    <tr>\n",
       "      <th>F1-score</th>\n",
       "      <td>0.815129</td>\n",
       "      <td>0.731308</td>\n",
       "    </tr>\n",
       "  </tbody>\n",
       "</table>\n",
       "</div>"
      ],
      "text/plain": [
       "              Train  Validation\n",
       "Accuracy   0.851955    0.798599\n",
       "Precision  0.888141    0.804627\n",
       "Recall     0.753210    0.670236\n",
       "F1-score   0.815129    0.731308"
      ]
     },
     "metadata": {},
     "output_type": "display_data"
    }
   ],
   "source": [
    "clf=MultinomialNB(alpha=0.1).fit(X_train,y_train)\n",
    "metrics=np.array([[accuracy_score(y_train,clf.predict(X_train)),precision_score(y_train,clf.predict(X_train)),recall_score(y_train,clf.predict(X_train)),f1_score(y_train,clf.predict(X_train))],[accuracy_score(y_val,clf.predict(X_val)),precision_score(y_val,clf.predict(X_val)),recall_score(y_val,clf.predict(X_val)),f1_score(y_val,clf.predict(X_val))]]).T\n",
    "results=pd.DataFrame(columns=['Train','Validation'],index=['Accuracy','Precision','Recall','F1-score'],data=metrics)\n",
    "display(results)"
   ]
  },
  {
   "cell_type": "code",
   "execution_count": 17,
   "id": "9b2925cd",
   "metadata": {
    "scrolled": false
   },
   "outputs": [
    {
     "name": "stdout",
     "output_type": "stream",
     "text": [
      "Best params: {'C': 10, 'gamma': 1}\n",
      "Best score: 0.7456063120241991\n"
     ]
    },
    {
     "data": {
      "image/png": "[encoded data removed]",
      "text/plain": [
       "<Figure size 1152x864 with 1 Axes>"
      ]
     },
     "metadata": {
      "needs_background": "light"
     },
     "output_type": "display_data"
    },
    {
     "data": {
      "image/png": "[encoded data removed]",
      "text/plain": [
       "<Figure size 1152x864 with 1 Axes>"
      ]
     },
     "metadata": {
      "needs_background": "light"
     },
     "output_type": "display_data"
    },
    {
     "data": {
      "image/png": "[encoded data removed]",
      "text/plain": [
       "<Figure size 1152x864 with 1 Axes>"
      ]
     },
     "metadata": {
      "needs_background": "light"
     },
     "output_type": "display_data"
    },
    {
     "data": {
      "image/png": "[encoded data removed]",
      "text/plain": [
       "<Figure size 1152x864 with 1 Axes>"
      ]
     },
     "metadata": {
      "needs_background": "light"
     },
     "output_type": "display_data"
    },
    {
     "data": {
      "image/png": "[encoded data removed]",
      "text/plain": [
       "<Figure size 1152x864 with 1 Axes>"
      ]
     },
     "metadata": {
      "needs_background": "light"
     },
     "output_type": "display_data"
    },
    {
     "data": {
      "image/png": "[encoded data removed]",
      "text/plain": [
       "<Figure size 1152x864 with 1 Axes>"
      ]
     },
     "metadata": {
      "needs_background": "light"
     },
     "output_type": "display_data"
    }
   ],
   "source": [
    "c=[0.001,0.01,0.1,1,10,100]\n",
    "g=[0.001,0.01,0.1,1,10,100]\n",
    "grid=GridSearchCV(SVC(),{'C':c,'gamma':g},scoring='f1').fit(X_train,y_train)\n",
    "print('Best params:',grid.best_params_)\n",
    "print('Best score:',grid.best_score_)\n",
    "for i in range(len(c)):\n",
    "    scores=[]\n",
    "    for j in range(len(g)):\n",
    "        clf_=SVC(C=c[i],gamma=g[j]).fit(X_train,y_train)\n",
    "        scores.append(f1_score(y_val,clf_.predict(X_val)))\n",
    "    fig=plt.figure(figsize=(16,12))\n",
    "    ax=fig.add_subplot(1,1,1)\n",
    "    ax.set_title('C=%f'%c[i])\n",
    "    ax.set_xlabel('gamma') \n",
    "    ax.set_ylabel('val score')\n",
    "    ax.plot(g,scores,color='b')\n",
    "    ax.scatter(g,scores,color='r')\n",
    "    plt.show()"
   ]
  },
  {
   "cell_type": "code",
   "execution_count": 27,
   "id": "0d95acf7",
   "metadata": {},
   "outputs": [
    {
     "data": {
      "text/html": [
       "<div>\n",
       "<style scoped>\n",
       "    .dataframe tbody tr th:only-of-type {\n",
       "        vertical-align: middle;\n",
       "    }\n",
       "\n",
       "    .dataframe tbody tr th {\n",
       "        vertical-align: top;\n",
       "    }\n",
       "\n",
       "    .dataframe thead th {\n",
       "        text-align: right;\n",
       "    }\n",
       "</style>\n",
       "<table border=\"1\" class=\"dataframe\">\n",
       "  <thead>\n",
       "    <tr style=\"text-align: right;\">\n",
       "      <th></th>\n",
       "      <th>Train</th>\n",
       "      <th>Validation</th>\n",
       "    </tr>\n",
       "  </thead>\n",
       "  <tbody>\n",
       "    <tr>\n",
       "      <th>Accuracy</th>\n",
       "      <td>0.985319</td>\n",
       "      <td>0.802977</td>\n",
       "    </tr>\n",
       "    <tr>\n",
       "      <th>Precision</th>\n",
       "      <td>0.989519</td>\n",
       "      <td>0.810256</td>\n",
       "    </tr>\n",
       "    <tr>\n",
       "      <th>Recall</th>\n",
       "      <td>0.976462</td>\n",
       "      <td>0.676660</td>\n",
       "    </tr>\n",
       "    <tr>\n",
       "      <th>F1-score</th>\n",
       "      <td>0.982947</td>\n",
       "      <td>0.737456</td>\n",
       "    </tr>\n",
       "  </tbody>\n",
       "</table>\n",
       "</div>"
      ],
      "text/plain": [
       "              Train  Validation\n",
       "Accuracy   0.985319    0.802977\n",
       "Precision  0.989519    0.810256\n",
       "Recall     0.976462    0.676660\n",
       "F1-score   0.982947    0.737456"
      ]
     },
     "metadata": {},
     "output_type": "display_data"
    }
   ],
   "source": [
    "clf=SVC(C=100,gamma=1).fit(X_train,y_train)\n",
    "metrics=np.array([[accuracy_score(y_train,clf.predict(X_train)),precision_score(y_train,clf.predict(X_train)),recall_score(y_train,clf.predict(X_train)),f1_score(y_train,clf.predict(X_train))],[accuracy_score(y_val,clf.predict(X_val)),precision_score(y_val,clf.predict(X_val)),recall_score(y_val,clf.predict(X_val)),f1_score(y_val,clf.predict(X_val))]]).T\n",
    "results=pd.DataFrame(columns=['Train','Validation'],index=['Accuracy','Precision','Recall','F1-score'],data=metrics)\n",
    "display(results)"
   ]
  },
  {
   "cell_type": "code",
   "execution_count": 10,
   "id": "7e92b4b5",
   "metadata": {
    "scrolled": false
   },
   "outputs": [
    {
     "name": "stdout",
     "output_type": "stream",
     "text": [
      "Best params: {'C': 1, 'degree': 1}\n",
      "Best score: 0.7459313256471682\n"
     ]
    },
    {
     "data": {
      "image/png": "[encoded data removed]",
      "text/plain": [
       "<Figure size 1152x864 with 1 Axes>"
      ]
     },
     "metadata": {
      "needs_background": "light"
     },
     "output_type": "display_data"
    },
    {
     "data": {
      "image/png": "[encoded data removed]",
      "text/plain": [
       "<Figure size 1152x864 with 1 Axes>"
      ]
     },
     "metadata": {
      "needs_background": "light"
     },
     "output_type": "display_data"
    },
    {
     "data": {
      "image/png": "[encoded data removed]",
      "text/plain": [
       "<Figure size 1152x864 with 1 Axes>"
      ]
     },
     "metadata": {
      "needs_background": "light"
     },
     "output_type": "display_data"
    }
   ],
   "source": [
    "c=[0.01,0.1,1,10,100]\n",
    "d=[1,2,3]\n",
    "grid=GridSearchCV(SVC(kernel='poly'),{'C':c,'degree':d},scoring='f1').fit(X_train,y_train)\n",
    "print('Best params:',grid.best_params_)\n",
    "print('Best score:',grid.best_score_)\n",
    "for i in range(len(d)):\n",
    "    scores=[]\n",
    "    for j in range(len(c)):\n",
    "        clf_=SVC(kernel='poly',C=c[j],degree=d[i]).fit(X_train,y_train)\n",
    "        scores.append(f1_score(y_val,clf_.predict(X_val)))\n",
    "    fig=plt.figure(figsize=(16,12))\n",
    "    ax=fig.add_subplot(1,1,1)\n",
    "    ax.set_title('Degree=%d'%d[i])\n",
    "    ax.set_xlabel('C') \n",
    "    ax.set_ylabel('val score')\n",
    "    ax.plot(c,scores,color='b')\n",
    "    ax.scatter(c,scores,color='r')\n",
    "    plt.show()"
   ]
  },
  {
   "cell_type": "code",
   "execution_count": 11,
   "id": "6fca1714",
   "metadata": {},
   "outputs": [
    {
     "data": {
      "text/html": [
       "<div>\n",
       "<style scoped>\n",
       "    .dataframe tbody tr th:only-of-type {\n",
       "        vertical-align: middle;\n",
       "    }\n",
       "\n",
       "    .dataframe tbody tr th {\n",
       "        vertical-align: top;\n",
       "    }\n",
       "\n",
       "    .dataframe thead th {\n",
       "        text-align: right;\n",
       "    }\n",
       "</style>\n",
       "<table border=\"1\" class=\"dataframe\">\n",
       "  <thead>\n",
       "    <tr style=\"text-align: right;\">\n",
       "      <th></th>\n",
       "      <th>Train</th>\n",
       "      <th>Validation</th>\n",
       "    </tr>\n",
       "  </thead>\n",
       "  <tbody>\n",
       "    <tr>\n",
       "      <th>Accuracy</th>\n",
       "      <td>0.875908</td>\n",
       "      <td>0.815236</td>\n",
       "    </tr>\n",
       "    <tr>\n",
       "      <th>Precision</th>\n",
       "      <td>0.913259</td>\n",
       "      <td>0.838624</td>\n",
       "    </tr>\n",
       "    <tr>\n",
       "      <th>Recall</th>\n",
       "      <td>0.788516</td>\n",
       "      <td>0.678801</td>\n",
       "    </tr>\n",
       "    <tr>\n",
       "      <th>F1-score</th>\n",
       "      <td>0.846316</td>\n",
       "      <td>0.750296</td>\n",
       "    </tr>\n",
       "  </tbody>\n",
       "</table>\n",
       "</div>"
      ],
      "text/plain": [
       "              Train  Validation\n",
       "Accuracy   0.875908    0.815236\n",
       "Precision  0.913259    0.838624\n",
       "Recall     0.788516    0.678801\n",
       "F1-score   0.846316    0.750296"
      ]
     },
     "metadata": {},
     "output_type": "display_data"
    }
   ],
   "source": [
    "clf=SVC(kernel='poly',C=1,degree=1).fit(X_train,y_train)\n",
    "metrics=np.array([[accuracy_score(y_train,clf.predict(X_train)),precision_score(y_train,clf.predict(X_train)),recall_score(y_train,clf.predict(X_train)),f1_score(y_train,clf.predict(X_train))],[accuracy_score(y_val,clf.predict(X_val)),precision_score(y_val,clf.predict(X_val)),recall_score(y_val,clf.predict(X_val)),f1_score(y_val,clf.predict(X_val))]]).T\n",
    "results=pd.DataFrame(columns=['Train','Validation'],index=['Accuracy','Precision','Recall','F1-score'],data=metrics)\n",
    "display(results)"
   ]
  },
  {
   "cell_type": "code",
   "execution_count": 22,
   "id": "a2e48a4a",
   "metadata": {},
   "outputs": [
    {
     "name": "stdout",
     "output_type": "stream",
     "text": [
      "Best params: {'C': 1}\n",
      "Best score: 0.7994115997207187\n"
     ]
    },
    {
     "data": {
      "image/png": "[encoded data removed]",
      "text/plain": [
       "<Figure size 1152x864 with 1 Axes>"
      ]
     },
     "metadata": {
      "needs_background": "light"
     },
     "output_type": "display_data"
    }
   ],
   "source": [
    "c=[0.01,0.1,1,10,100]\n",
    "grid=GridSearchCV(SVC(kernel='linear'),{'C':c}).fit(X_train,y_train)\n",
    "print('Best params:',grid.best_params_)\n",
    "print('Best score:',grid.best_score_)\n",
    "scores=[]\n",
    "for i in range(len(c)):\n",
    "    clf_=SVC(kernel='linear',C=c[i]).fit(X_train,y_train)\n",
    "    scores.append(f1_score(y_val,clf_.predict(X_val)))\n",
    "fig=plt.figure(figsize=(16,12))\n",
    "ax=fig.add_subplot(1,1,1)\n",
    "ax.set_title('Linear')\n",
    "ax.set_xlabel('C')\n",
    "ax.set_ylabel('val score')\n",
    "ax.plot(c,scores,color='b')\n",
    "ax.scatter(c,scores,color='r')\n",
    "plt.show()"
   ]
  },
  {
   "cell_type": "code",
   "execution_count": 23,
   "id": "72b6a5dc",
   "metadata": {},
   "outputs": [
    {
     "data": {
      "text/html": [
       "<div>\n",
       "<style scoped>\n",
       "    .dataframe tbody tr th:only-of-type {\n",
       "        vertical-align: middle;\n",
       "    }\n",
       "\n",
       "    .dataframe tbody tr th {\n",
       "        vertical-align: top;\n",
       "    }\n",
       "\n",
       "    .dataframe thead th {\n",
       "        text-align: right;\n",
       "    }\n",
       "</style>\n",
       "<table border=\"1\" class=\"dataframe\">\n",
       "  <thead>\n",
       "    <tr style=\"text-align: right;\">\n",
       "      <th></th>\n",
       "      <th>Train</th>\n",
       "      <th>Validation</th>\n",
       "    </tr>\n",
       "  </thead>\n",
       "  <tbody>\n",
       "    <tr>\n",
       "      <th>Accuracy</th>\n",
       "      <td>0.892907</td>\n",
       "      <td>0.807356</td>\n",
       "    </tr>\n",
       "    <tr>\n",
       "      <th>Precision</th>\n",
       "      <td>0.931345</td>\n",
       "      <td>0.824147</td>\n",
       "    </tr>\n",
       "    <tr>\n",
       "      <th>Recall</th>\n",
       "      <td>0.812767</td>\n",
       "      <td>0.672377</td>\n",
       "    </tr>\n",
       "    <tr>\n",
       "      <th>F1-score</th>\n",
       "      <td>0.868025</td>\n",
       "      <td>0.740566</td>\n",
       "    </tr>\n",
       "  </tbody>\n",
       "</table>\n",
       "</div>"
      ],
      "text/plain": [
       "              Train  Validation\n",
       "Accuracy   0.892907    0.807356\n",
       "Precision  0.931345    0.824147\n",
       "Recall     0.812767    0.672377\n",
       "F1-score   0.868025    0.740566"
      ]
     },
     "metadata": {},
     "output_type": "display_data"
    }
   ],
   "source": [
    "clf=SVC(kernel='linear',C=1).fit(X_train,y_train)\n",
    "metrics=np.array([[accuracy_score(y_train,clf.predict(X_train)),precision_score(y_train,clf.predict(X_train)),recall_score(y_train,clf.predict(X_train)),f1_score(y_train,clf.predict(X_train))],[accuracy_score(y_val,clf.predict(X_val)),precision_score(y_val,clf.predict(X_val)),recall_score(y_val,clf.predict(X_val)),f1_score(y_val,clf.predict(X_val))]]).T\n",
    "results=pd.DataFrame(columns=['Train','Validation'],index=['Accuracy','Precision','Recall','F1-score'],data=metrics)\n",
    "display(results)"
   ]
  },
  {
   "cell_type": "code",
   "execution_count": 12,
   "id": "ad8e4129",
   "metadata": {},
   "outputs": [
    {
     "data": {
      "text/html": [
       "<div>\n",
       "<style scoped>\n",
       "    .dataframe tbody tr th:only-of-type {\n",
       "        vertical-align: middle;\n",
       "    }\n",
       "\n",
       "    .dataframe tbody tr th {\n",
       "        vertical-align: top;\n",
       "    }\n",
       "\n",
       "    .dataframe thead th {\n",
       "        text-align: right;\n",
       "    }\n",
       "</style>\n",
       "<table border=\"1\" class=\"dataframe\">\n",
       "  <thead>\n",
       "    <tr style=\"text-align: right;\">\n",
       "      <th></th>\n",
       "      <th>id</th>\n",
       "      <th>target</th>\n",
       "    </tr>\n",
       "  </thead>\n",
       "  <tbody>\n",
       "    <tr>\n",
       "      <th>0</th>\n",
       "      <td>0</td>\n",
       "      <td>1</td>\n",
       "    </tr>\n",
       "    <tr>\n",
       "      <th>1</th>\n",
       "      <td>2</td>\n",
       "      <td>1</td>\n",
       "    </tr>\n",
       "    <tr>\n",
       "      <th>2</th>\n",
       "      <td>3</td>\n",
       "      <td>1</td>\n",
       "    </tr>\n",
       "    <tr>\n",
       "      <th>3</th>\n",
       "      <td>9</td>\n",
       "      <td>0</td>\n",
       "    </tr>\n",
       "    <tr>\n",
       "      <th>4</th>\n",
       "      <td>11</td>\n",
       "      <td>1</td>\n",
       "    </tr>\n",
       "    <tr>\n",
       "      <th>...</th>\n",
       "      <td>...</td>\n",
       "      <td>...</td>\n",
       "    </tr>\n",
       "    <tr>\n",
       "      <th>3258</th>\n",
       "      <td>10861</td>\n",
       "      <td>1</td>\n",
       "    </tr>\n",
       "    <tr>\n",
       "      <th>3259</th>\n",
       "      <td>10865</td>\n",
       "      <td>1</td>\n",
       "    </tr>\n",
       "    <tr>\n",
       "      <th>3260</th>\n",
       "      <td>10868</td>\n",
       "      <td>1</td>\n",
       "    </tr>\n",
       "    <tr>\n",
       "      <th>3261</th>\n",
       "      <td>10874</td>\n",
       "      <td>1</td>\n",
       "    </tr>\n",
       "    <tr>\n",
       "      <th>3262</th>\n",
       "      <td>10875</td>\n",
       "      <td>0</td>\n",
       "    </tr>\n",
       "  </tbody>\n",
       "</table>\n",
       "<p>3263 rows × 2 columns</p>\n",
       "</div>"
      ],
      "text/plain": [
       "         id  target\n",
       "0         0       1\n",
       "1         2       1\n",
       "2         3       1\n",
       "3         9       0\n",
       "4        11       1\n",
       "...     ...     ...\n",
       "3258  10861       1\n",
       "3259  10865       1\n",
       "3260  10868       1\n",
       "3261  10874       1\n",
       "3262  10875       0\n",
       "\n",
       "[3263 rows x 2 columns]"
      ]
     },
     "metadata": {},
     "output_type": "display_data"
    }
   ],
   "source": [
    "ss['target']=clf.predict(test_vect)\n",
    "display(ss)\n",
    "ss.to_csv('tweets.csv',index=False)"
   ]
  },
  {
   "cell_type": "code",
   "execution_count": null,
   "id": "c8ee9087",
   "metadata": {},
   "outputs": [],
   "source": []
  }
 ],
 "metadata": {
  "kernelspec": {
   "display_name": "Python 3",
   "language": "python",
   "name": "python3"
  },
  "language_info": {
   "codemirror_mode": {
    "name": "ipython",
    "version": 3
   },
   "file_extension": ".py",
   "mimetype": "text/x-python",
   "name": "python",
   "nbconvert_exporter": "python",
   "pygments_lexer": "ipython3",
   "version": "3.8.8"
  }
 },
 "nbformat": 4,
 "nbformat_minor": 5
}
